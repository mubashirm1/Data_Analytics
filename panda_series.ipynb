{
 "cells": [
  {
   "cell_type": "code",
   "execution_count": 2,
   "metadata": {},
   "outputs": [],
   "source": [
    "import numpy as np\n",
    "import pandas as pd"
   ]
  },
  {
   "cell_type": "code",
   "execution_count": 37,
   "metadata": {},
   "outputs": [
    {
     "name": "stdout",
     "output_type": "stream",
     "text": [
      "<class 'pandas.core.series.Series'>\n",
      "Index(['first', 'second', 'third'], dtype='object')\n",
      "A\n",
      "C\n",
      "second    B\n",
      "third     C\n",
      "forth     D\n",
      "dtype: object\n",
      "fifth     E\n",
      "forth     D\n",
      "third     C\n",
      "second    B\n",
      "first     A\n",
      "dtype: object\n",
      "['A' 'E']\n"
     ]
    }
   ],
   "source": [
    "# Create an empty pandas Series\n",
    "pd.Series()\n",
    "# Given the X python list convert it to an Y pandas Series\n",
    "X1 = ['A','B','C']\n",
    "print(type(pd.Series(X1)))\n",
    "# Given a pandas Series, show its values\n",
    "pd.Series(X1).values\n",
    "# Assign index names to the given X pandas Series\n",
    "X2 = pd.Series(['A','B','C'])\n",
    "index_names = ['first', 'second', 'third']\n",
    "X2.index = index_names\n",
    "print(X2.index)\n",
    "# Given the X pandas Series, show its first element\n",
    "X3 = pd.Series(['A','B','C'], index=['first', 'second', 'third'])\n",
    "print(X3.iloc[0])\n",
    "# Given the X pandas Series, show its last element\n",
    "print(X3.iloc[-1])\n",
    "# Given the X pandas Series, show all middle elements\n",
    "X4 = pd.Series(['A','B','C','D','E'],\n",
    "              index=['first','second','third','forth','fifth'])\n",
    "print(X4.iloc[1:-1])\n",
    "# Given the X pandas Series, show the elements in reverse position\n",
    "print(X4.iloc[::-1])\n",
    "# Given the X pandas Series, show the first and last elements\n",
    "print(X4.iloc[[0,-1]].values)"
   ]
  },
  {
   "cell_type": "code",
   "execution_count": 56,
   "metadata": {},
   "outputs": [
    {
     "name": "stdout",
     "output_type": "stream",
     "text": [
      "first     1.0\n",
      "second    2.0\n",
      "third     3.0\n",
      "forth     4.0\n",
      "fifth     5.0\n",
      "dtype: float16\n",
      "fifth     5\n",
      "forth     4\n",
      "third     3\n",
      "second    2\n",
      "first     1\n",
      "dtype: int64\n",
      "first     1\n",
      "second    2\n",
      "third     3\n",
      "forth     4\n",
      "fifth     5\n",
      "dtype: int64\n",
      "forth      4\n",
      "second     2\n",
      "fifth      5\n",
      "first      1\n",
      "third     10\n",
      "dtype: int64\n"
     ]
    },
    {
     "data": {
      "text/plain": [
       "first     1\n",
       "second    2\n",
       "third     3\n",
       "forth     4\n",
       "fifth     5\n",
       "dtype: int64"
      ]
     },
     "execution_count": 56,
     "metadata": {},
     "output_type": "execute_result"
    }
   ],
   "source": [
    "# Convert the given integer pandas Series to float\n",
    "X5 = pd.Series([1,2,3,4,5],\n",
    "              index=['first','second','third','forth','fifth'])\n",
    "print(X5.astype(np.float16))\n",
    "# Reverse the given pandas Series (first element becomes last)\n",
    "print(X5[::-1])\n",
    "# Order (sort) the given pandas Series\n",
    "X6 = pd.Series([4,2,5,1,3],\n",
    "              index=['forth','second','fifth','first','third'])\n",
    "print(X6.sort_values())\n",
    "# Given the X pandas Series, set the fifth element equal to 10\n",
    "X6.iloc[4] = 10\n",
    "print(X6)\n"
   ]
  },
  {
   "cell_type": "code",
   "execution_count": 66,
   "metadata": {},
   "outputs": [
    {
     "name": "stdout",
     "output_type": "stream",
     "text": [
      "A    1\n",
      "B    0\n",
      "C    0\n",
      "D    0\n",
      "E    5\n",
      "dtype: int64\n",
      "0     6\n",
      "1     7\n",
      "2     8\n",
      "3     9\n",
      "4    10\n",
      "dtype: int64\n"
     ]
    }
   ],
   "source": [
    "# Given the X pandas Series, change all the middle elements to 0\n",
    "X7 = pd.Series([1,2,3,4,5],\n",
    "              index=['A','B','C','D','E'])\n",
    "X7[1:-1] = 0\n",
    "print(X7)\n",
    "# Given the X pandas Series, add 5 to every element\n",
    "X8 = pd.Series([1,2,3,4,5])\n",
    "X8 += 5\n",
    "print(X8)"
   ]
  },
  {
   "cell_type": "code",
   "execution_count": 3,
   "metadata": {},
   "outputs": [
    {
     "name": "stdout",
     "output_type": "stream",
     "text": [
      "0     True\n",
      "1    False\n",
      "2    False\n",
      "3     True\n",
      "4    False\n",
      "5    False\n",
      "6    False\n",
      "7    False\n",
      "8     True\n",
      "9    False\n",
      "dtype: bool\n",
      "0   -1\n",
      "3   -4\n",
      "8   -9\n",
      "dtype: int64\n",
      "5     6\n",
      "9    10\n",
      "dtype: int64\n",
      "1     2\n",
      "4     5\n",
      "5     6\n",
      "9    10\n",
      "dtype: int64\n",
      "1     2\n",
      "9    10\n",
      "dtype: int64\n"
     ]
    }
   ],
   "source": [
    "# Given the X pandas Series, make a mask showing negative elements\n",
    "X9 = pd.Series([-1,2,0,-4,5,6,0,0,-9,10])\n",
    "print(X9<0)\n",
    "# Given the X pandas Series, get the negative elements\n",
    "print(X9[X9<0])\n",
    "# Given the X pandas Series, get numbers higher than 5\n",
    "print(X9[X9>5])\n",
    "# Given the X pandas Series, get numbers higher than the elements mean\n",
    "print(X9[X9>X9.values.mean()])\n",
    "# Given the X pandas Series, get numbers equal to 2 or 10\n",
    "X10 = pd.Series([-1,2,0,-4,5,6,0,0,-9,10])\n",
    "print(X10[(X10 == 2)| (X10 == 10)])\n"
   ]
  },
  {
   "cell_type": "code",
   "execution_count": 4,
   "metadata": {},
   "outputs": [
    {
     "name": "stdout",
     "output_type": "stream",
     "text": [
      "False\n",
      "True\n",
      "9\n",
      "0.9\n",
      "10\n"
     ]
    }
   ],
   "source": [
    "# Given the X pandas Series, return True if none of its elements is zero\n",
    "print(X10.all())\n",
    "# Given the X pandas Series, return True if any of its elements is zero\n",
    "print((X10==0).any())\n",
    "# Given the X pandas Series, show the sum of its elements\n",
    "print(X10.sum())\n",
    "# Given the X pandas Series, show the mean value of its elements\n",
    "print(X10.mean())\n",
    "# Given the X pandas Series, show the max value of its elements\n",
    "print(X10.max())"
   ]
  }
 ],
 "metadata": {
  "kernelspec": {
   "display_name": "Python 3",
   "language": "python",
   "name": "python3"
  },
  "language_info": {
   "codemirror_mode": {
    "name": "ipython",
    "version": 3
   },
   "file_extension": ".py",
   "mimetype": "text/x-python",
   "name": "python",
   "nbconvert_exporter": "python",
   "pygments_lexer": "ipython3",
   "version": "3.10.11"
  }
 },
 "nbformat": 4,
 "nbformat_minor": 2
}

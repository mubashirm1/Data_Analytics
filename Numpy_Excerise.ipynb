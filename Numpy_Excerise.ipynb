{
 "cells": [
  {
   "cell_type": "code",
   "execution_count": 1,
   "metadata": {},
   "outputs": [],
   "source": [
    "import numpy as np"
   ]
  },
  {
   "cell_type": "code",
   "execution_count": 57,
   "metadata": {},
   "outputs": [
    {
     "data": {
      "text/plain": [
       "array([0, 0, 0, 0, 0, 0, 0, 0, 0, 0], dtype=uint8)"
      ]
     },
     "execution_count": 57,
     "metadata": {},
     "output_type": "execute_result"
    }
   ],
   "source": [
    "# Create a numpy array of size 10, filled with zeros.\n",
    "np.zeros(10,dtype = np.uint8)"
   ]
  },
  {
   "cell_type": "code",
   "execution_count": 58,
   "metadata": {},
   "outputs": [
    {
     "data": {
      "text/plain": [
       "array([10, 11, 12, 13, 14, 15, 16, 17, 18, 19, 20, 21, 22, 23, 24, 25, 26,\n",
       "       27, 28, 29, 30, 31, 32, 33, 34, 35, 36, 37, 38, 39, 40, 41, 42, 43,\n",
       "       44, 45, 46, 47, 48, 49])"
      ]
     },
     "execution_count": 58,
     "metadata": {},
     "output_type": "execute_result"
    }
   ],
   "source": [
    "# Create a numpy array with values ranging from 10 to 49\n",
    "np.arange(10,50)"
   ]
  },
  {
   "cell_type": "code",
   "execution_count": 59,
   "metadata": {},
   "outputs": [
    {
     "data": {
      "text/plain": [
       "array([[1, 1],\n",
       "       [1, 1]])"
      ]
     },
     "execution_count": 59,
     "metadata": {},
     "output_type": "execute_result"
    }
   ],
   "source": [
    "# Create a numpy matrix of 2*2 integers, filled with ones.\n",
    "np.ones((2,2),dtype=int)"
   ]
  },
  {
   "cell_type": "code",
   "execution_count": 61,
   "metadata": {},
   "outputs": [
    {
     "data": {
      "text/plain": [
       "array([[1., 1.],\n",
       "       [1., 1.],\n",
       "       [1., 1.]])"
      ]
     },
     "execution_count": 61,
     "metadata": {},
     "output_type": "execute_result"
    }
   ],
   "source": [
    "# Create a numpy matrix of 3*2 float numbers, filled with ones.\n",
    "np.ones((3,2))"
   ]
  },
  {
   "cell_type": "code",
   "execution_count": 65,
   "metadata": {},
   "outputs": [
    {
     "data": {
      "text/plain": [
       "array([1, 1, 1, 1, 1, 1, 1, 1])"
      ]
     },
     "execution_count": 65,
     "metadata": {},
     "output_type": "execute_result"
    }
   ],
   "source": [
    "# Given the X numpy array, create a new numpy array with the same shape and type as X, filled with ones.\n",
    "x = np.arange(2,10)\n",
    "np.ones_like(x)"
   ]
  },
  {
   "cell_type": "code",
   "execution_count": 67,
   "metadata": {},
   "outputs": [
    {
     "data": {
      "text/plain": [
       "array([[0., 0.],\n",
       "       [0., 0.]])"
      ]
     },
     "execution_count": 67,
     "metadata": {},
     "output_type": "execute_result"
    }
   ],
   "source": [
    "# Given the X numpy matrix, create a new numpy matrix with the same shape and type as X, filled with zeros.\n",
    "x1 = np.random.rand(2,2) \n",
    "np.zeros_like(x1)"
   ]
  },
  {
   "cell_type": "code",
   "execution_count": 66,
   "metadata": {},
   "outputs": [
    {
     "data": {
      "text/plain": [
       "array([[5, 5, 5, 5],\n",
       "       [5, 5, 5, 5],\n",
       "       [5, 5, 5, 5],\n",
       "       [5, 5, 5, 5]])"
      ]
     },
     "execution_count": 66,
     "metadata": {},
     "output_type": "execute_result"
    }
   ],
   "source": [
    "# Create a numpy matrix of 4*4 integers, filled with fives.\n",
    "np.ones((4,4),dtype = int)*5"
   ]
  },
  {
   "cell_type": "code",
   "execution_count": 69,
   "metadata": {},
   "outputs": [
    {
     "data": {
      "text/plain": [
       "array([[7, 7, 7],\n",
       "       [7, 7, 7],\n",
       "       [7, 7, 7]])"
      ]
     },
     "execution_count": 69,
     "metadata": {},
     "output_type": "execute_result"
    }
   ],
   "source": [
    "# Given the X numpy matrix, create a new numpy matrix with the same shape and type as X, filled with sevens.\n",
    "x2 = np.random.rand(3,3) \n",
    "np.ones_like(x2,dtype = int)*7"
   ]
  },
  {
   "cell_type": "code",
   "execution_count": 70,
   "metadata": {},
   "outputs": [
    {
     "data": {
      "text/plain": [
       "array([[1., 0., 0.],\n",
       "       [0., 1., 0.],\n",
       "       [0., 0., 1.]])"
      ]
     },
     "execution_count": 70,
     "metadata": {},
     "output_type": "execute_result"
    }
   ],
   "source": [
    "# Create a 3*3 identity numpy matrix with ones on the diagonal and zeros elsewhere.\n",
    "np.identity(3)"
   ]
  },
  {
   "cell_type": "code",
   "execution_count": 82,
   "metadata": {},
   "outputs": [
    {
     "data": {
      "text/plain": [
       "array([[1, 1, 5]])"
      ]
     },
     "execution_count": 82,
     "metadata": {},
     "output_type": "execute_result"
    }
   ],
   "source": [
    "# Create a numpy array, filled with 3 random integer values between 1 and 10.\n",
    "np.random.randint(1,11,size =(1,3))"
   ]
  },
  {
   "cell_type": "code",
   "execution_count": 88,
   "metadata": {},
   "outputs": [
    {
     "data": {
      "text/plain": [
       "array([[[ 3.34,  2.71,  3.61],\n",
       "        [ 9.46,  4.87, 10.  ],\n",
       "        [ 3.43,  1.18,  8.92]],\n",
       "\n",
       "       [[ 7.39,  9.73,  4.15],\n",
       "        [ 9.37,  8.74,  6.31],\n",
       "        [ 6.94,  5.77,  4.24]],\n",
       "\n",
       "       [[ 7.39,  9.55,  8.29],\n",
       "        [ 8.29,  7.12,  2.89],\n",
       "        [ 2.89,  5.32,  5.41]]])"
      ]
     },
     "execution_count": 88,
     "metadata": {},
     "output_type": "execute_result"
    }
   ],
   "source": [
    "# Create a 3*3*3 numpy matrix, filled with random float values.\n",
    "(10-1)*np.random.random((3,3,3)).round(2)+1"
   ]
  },
  {
   "cell_type": "code",
   "execution_count": 92,
   "metadata": {},
   "outputs": [
    {
     "name": "stdout",
     "output_type": "stream",
     "text": [
      "<class 'list'>\n",
      "<class 'numpy.ndarray'>\n"
     ]
    }
   ],
   "source": [
    "# Given the X python list convert it to an Y numpy array\n",
    "X3 = [1, 2, 3]\n",
    "print(type(X3))\n",
    "Y1 = np.array(X)\n",
    "print(type(Y1))"
   ]
  },
  {
   "cell_type": "code",
   "execution_count": 98,
   "metadata": {},
   "outputs": [
    {
     "name": "stdout",
     "output_type": "stream",
     "text": [
      "2305575113936\n",
      "2305575263216\n"
     ]
    }
   ],
   "source": [
    "# Given the X numpy array, make a copy and store it on Y.\n",
    "X = np.array([5,2,3], dtype=int)\n",
    "print(id(X))\n",
    "Y = np.copy(X)\n",
    "print(id(Y))"
   ]
  },
  {
   "cell_type": "code",
   "execution_count": 117,
   "metadata": {},
   "outputs": [
    {
     "data": {
      "text/plain": [
       "array([ 1,  2,  3,  4,  5,  6,  7,  8,  9, 10])"
      ]
     },
     "execution_count": 117,
     "metadata": {},
     "output_type": "execute_result"
    }
   ],
   "source": [
    "# Create a numpy array with numbers from 1 to 10\n",
    "np.arange(1,11)"
   ]
  },
  {
   "cell_type": "code",
   "execution_count": 118,
   "metadata": {},
   "outputs": [
    {
     "data": {
      "text/plain": [
       "array([1, 3, 5, 7, 9])"
      ]
     },
     "execution_count": 118,
     "metadata": {},
     "output_type": "execute_result"
    }
   ],
   "source": [
    "# Create a numpy array with the odd numbers between 1 to 10\n",
    "np.arange(1,11,2)"
   ]
  },
  {
   "cell_type": "code",
   "execution_count": 119,
   "metadata": {},
   "outputs": [
    {
     "data": {
      "text/plain": [
       "array([[0, 1, 2],\n",
       "       [3, 4, 5],\n",
       "       [6, 7, 8]])"
      ]
     },
     "execution_count": 119,
     "metadata": {},
     "output_type": "execute_result"
    }
   ],
   "source": [
    "# Create a 3*3 numpy matrix, filled with values ranging from 0 to 8\n",
    "np.arange(0,9).reshape(3,3)"
   ]
  },
  {
   "cell_type": "code",
   "execution_count": 146,
   "metadata": {},
   "outputs": [
    {
     "name": "stdout",
     "output_type": "stream",
     "text": [
      "100\n"
     ]
    }
   ],
   "source": [
    "# how the memory size of the given Z numpy matrix\n",
    "Z1 = np.zeros((10,10),dtype=np.uint8)\n",
    "print(Z1.nbytes)"
   ]
  },
  {
   "cell_type": "code",
   "execution_count": 164,
   "metadata": {},
   "outputs": [
    {
     "name": "stdout",
     "output_type": "stream",
     "text": [
      "1\n",
      "9\n",
      "[1 2 3]\n",
      "[2 3 4 5 6 7 8]\n",
      "[9 8 7 6 5 4 3 2 1]\n",
      "[1 3 5 7 9]\n"
     ]
    }
   ],
   "source": [
    "# Given the X numpy array, show it's first element\n",
    "x4 = np.arange(1,10)\n",
    "print(x4[0])\n",
    "# Given the X numpy array, show it's last element\n",
    "print(x4[-1])\n",
    "# Given the X numpy array, show it's first three elements\n",
    "print(x4[:3])\n",
    "# Given the X numpy array, show all middle elements\n",
    "print(x4[1:-1])\n",
    "# Given the X numpy array, show the elements in reverse position\n",
    "print(x4[::-1])\n",
    "# Given the X numpy array, show the elements in an odd position\n",
    "print(x4[::2])\n"
   ]
  },
  {
   "cell_type": "code",
   "execution_count": 189,
   "metadata": {},
   "outputs": [
    {
     "data": {
      "text/plain": [
       "array([[9, 7, 6, 1],\n",
       "       [4, 7, 8, 3],\n",
       "       [1, 3, 7, 7],\n",
       "       [5, 1, 1, 6]])"
      ]
     },
     "execution_count": 189,
     "metadata": {},
     "output_type": "execute_result"
    }
   ],
   "source": [
    "x5 = np.random.randint(10,size=(4,4))\n",
    "x5"
   ]
  },
  {
   "cell_type": "code",
   "execution_count": 195,
   "metadata": {},
   "outputs": [
    {
     "name": "stdout",
     "output_type": "stream",
     "text": [
      "[9 7 6 1]\n",
      "[5 1 1 6]\n",
      "9\n",
      "6\n",
      "[[4 7 8 3]\n",
      " [1 3 7 7]]\n",
      "[[9 7]\n",
      " [4 7]]\n",
      "[[7 7]\n",
      " [1 6]]\n"
     ]
    }
   ],
   "source": [
    "# Given the X numpy matrix, show the first row elements\n",
    "print(x5[0])\n",
    "# Given the X numpy matrix, show the last row elements\n",
    "print(x5[-1])\n",
    "# Given the X numpy matrix, show the first element on first row\n",
    "print(x5[0,0])\n",
    "# Given the X numpy matrix, show the last element on last row\n",
    "print(x5[-1,-1])\n",
    "# Given the X numpy matrix, show the middle row elements\n",
    "print(x5[1:-1])\n",
    "# Given the X numpy matrix, show the first two elements on the first two rows\n",
    "print(x5[:2,:2])\n",
    "# Given the X numpy matrix, show the last two elements on the last two rows\n",
    "print(x5[-2:,-2:])"
   ]
  },
  {
   "cell_type": "code",
   "execution_count": 216,
   "metadata": {},
   "outputs": [
    {
     "name": "stdout",
     "output_type": "stream",
     "text": [
      "[1. 2. 3. 4. 5. 6. 7. 8. 9.]\n",
      "[9 8 7 6 5 4 3 2 1]\n"
     ]
    }
   ],
   "source": [
    "# Convert the given integer numpy array to float\n",
    "x6= np.arange(1,10,dtype = np.uint8)\n",
    "print(x6.astype(float))\n",
    "# Reverse the given numpy array (first element becomes last)\n",
    "print(x6[::-1])"
   ]
  },
  {
   "cell_type": "code",
   "execution_count": 234,
   "metadata": {},
   "outputs": [
    {
     "name": "stdout",
     "output_type": "stream",
     "text": [
      "[ 0 10 -5 40  1]\n",
      "[10 20 30 40]\n"
     ]
    }
   ],
   "source": [
    "# Order (sort) the given numpy array\n",
    "x7 = np.array([0, 10, -5, 40, -3])\n",
    "np.sort(x7)\n",
    "# Given the X numpy array, set the fifth element equal to 1\n",
    "x7[4] = 1\n",
    "print(x7)\n",
    "# Given the X numpy array, change the 50 with a 40\n",
    "x8 = np.array([10, 20, 30, 50])\n",
    "for i in range(len(x8)):\n",
    "    if x8[i] == 50:\n",
    "        x8[i] = 40\n",
    "    else:\n",
    "        continue\n",
    "print(x8)"
   ]
  },
  {
   "cell_type": "code",
   "execution_count": 241,
   "metadata": {},
   "outputs": [
    {
     "name": "stdout",
     "output_type": "stream",
     "text": [
      "[[ 1  2  3  4]\n",
      " [ 5  6  7  8]\n",
      " [ 9 10 11 12]\n",
      " [ 1  1  1  1]]\n",
      "[[ 1  2  3  4]\n",
      " [ 5  6  7  8]\n",
      " [ 9 10 11 12]\n",
      " [ 1  1  1  0]]\n",
      "[[ 6  7  8  9]\n",
      " [10 11 12 13]\n",
      " [14 15 16 17]\n",
      " [ 6  6  6  5]]\n"
     ]
    }
   ],
   "source": [
    "# Given the X numpy matrix, change the last row with all 1\n",
    "x9 = np.array([\n",
    "    [1,   2,  3,  4],\n",
    "    [5,   6,  7,  8],\n",
    "    [9,  10, 11, 12],\n",
    "    [13, 14, 15, 16]\n",
    "])\n",
    "x9[-1] = np.ones_like(x9[-1])\n",
    "print(x9)\n",
    "# Given the X numpy matrix, change the last item on the last row with a 0\n",
    "x9[-1,-1] = 0\n",
    "print(x9)\n",
    "# Given the X numpy matrix, add 5 to every element\n",
    "x9 +=5\n",
    "print(x9)"
   ]
  },
  {
   "cell_type": "code",
   "execution_count": 265,
   "metadata": {},
   "outputs": [
    {
     "name": "stdout",
     "output_type": "stream",
     "text": [
      "[ True False False  True False False False False  True False]\n",
      "-1\n",
      "-4\n",
      "-9\n",
      "[-1 -4 -9]\n",
      "[ 6 10]\n",
      "[ 2  5  6 10]\n"
     ]
    },
    {
     "data": {
      "text/plain": [
       "array([ 2, 10])"
      ]
     },
     "execution_count": 265,
     "metadata": {},
     "output_type": "execute_result"
    }
   ],
   "source": [
    "# Given the X numpy array, make a mask showing negative elements\n",
    "x10 = np.array([-1,2,0,-4,5,6,0,0,-9,10])\n",
    "print(x10 <0)\n",
    "# Given the X numpy array, get the negative elements\n",
    "for i in x10:\n",
    "    if i < 0:\n",
    "        print(i)\n",
    "mask10 = x10<0\n",
    "print(x10[mask10 == True])\n",
    "# Given the X numpy array, get numbers higher than 5\n",
    "x11 = np.array([-1, 2, 0, -4, 5, 6, 0, 0, -9, 10])\n",
    "mask11 = x11>5\n",
    "print(x11[mask11])\n",
    "# Given the X numpy array, get numbers higher than the elements mean\n",
    "x12 = np.array([-1, 2, 0, -4, 5, 6, 0, 0, -9, 10])\n",
    "mask12 = x12>x12.mean()\n",
    "print(x12[mask12])\n",
    "# Given the X numpy array, get numbers equal to 2 or 10\n",
    "x13 = np.array([-1, 2, 0, -4, 5, 6, 0, 0, -9, 10])\n",
    "x13[(x13==2)|(x13==10)]\n"
   ]
  },
  {
   "cell_type": "code",
   "execution_count": 274,
   "metadata": {},
   "outputs": [
    {
     "name": "stdout",
     "output_type": "stream",
     "text": [
      "False\n",
      "True\n"
     ]
    }
   ],
   "source": [
    "# Given the X numpy array, return True if none of its elements is zero\n",
    "x14 = np.array([-1, 2, 0, -4, 5, 6, 0, 0, -9, 10])\n",
    "print(x14.all())\n",
    "# Given the X numpy array, return True if any of its elements is zero\n",
    "print(np.any(x14==0))"
   ]
  },
  {
   "cell_type": "code",
   "execution_count": 279,
   "metadata": {},
   "outputs": [
    {
     "name": "stdout",
     "output_type": "stream",
     "text": [
      "9\n",
      "0.9\n",
      "[28 32 36 40]\n",
      "[ 2.5  6.5 10.5 14.5]\n"
     ]
    },
    {
     "data": {
      "text/plain": [
       "10"
      ]
     },
     "execution_count": 279,
     "metadata": {},
     "output_type": "execute_result"
    }
   ],
   "source": [
    "# Given the X numpy array, show the sum of its elements\n",
    "print(x14.sum())\n",
    "# Given the X numpy array, show the mean value of its elements\n",
    "print(x14.mean())\n",
    "# Given the X numpy matrix, show the sum of its columns\n",
    "x15 =  np.array([\n",
    "    [1,   2,  3,  4],\n",
    "    [5,   6,  7,  8],\n",
    "    [9,  10, 11, 12],\n",
    "    [13, 14, 15, 16]])\n",
    "print(x15.sum(axis = 0))\n",
    "# Given the X numpy matrix, show the mean value of its rows\n",
    "print(x15.mean(axis=1))\n",
    "# Given the X numpy array, show the max value of its elements\n",
    "x14.max()"
   ]
  },
  {
   "cell_type": "code",
   "execution_count": 280,
   "metadata": {},
   "outputs": [],
   "source": [
    "# np.info(\"all\")"
   ]
  },
  {
   "cell_type": "code",
   "execution_count": 281,
   "metadata": {},
   "outputs": [],
   "source": [
    "# np.lookfor(\"element 0\")"
   ]
  }
 ],
 "metadata": {
  "kernelspec": {
   "display_name": "Python 3",
   "language": "python",
   "name": "python3"
  },
  "language_info": {
   "codemirror_mode": {
    "name": "ipython",
    "version": 3
   },
   "file_extension": ".py",
   "mimetype": "text/x-python",
   "name": "python",
   "nbconvert_exporter": "python",
   "pygments_lexer": "ipython3",
   "version": "3.10.11"
  }
 },
 "nbformat": 4,
 "nbformat_minor": 2
}
